{
 "cells": [
  {
   "cell_type": "markdown",
   "id": "honey-pledge",
   "metadata": {},
   "source": [
    "Relativistic Kepler's Problem\n",
    "---------------------------------\n",
    "\n",
    "### Exercise 6.1\n",
    "\n",
    "In Phys 7301, we often consider motion of a particle in a central potential given by $$V=\\frac{k}{r}+\\frac{k'}{r^2}$$  Using Action-Angle variables, it can be shown that for specific values of $k$ and $k'$, the orbit would be closed (i.e. N oscillations along r and M rotations in $\\theta$).  For simplicity, consider a particle of unit mass, where $k=1$.  Find values of $k'$ for which the orbit is closed (i.e. the particle returns to the exact same point in phase space at a later time), where the period of oscillation along r is larger or smaller than the period of rotation along $\\theta$. We will discuss the analytical result in class."
   ]
  },
  {
   "cell_type": "markdown",
   "id": "technological-borough",
   "metadata": {},
   "source": [
    "Motion in an anharmonic well\n",
    "---------------------------------\n",
    "\n",
    "### Exercise 6.2\n",
    "\n",
    "In Phys 7301, we often considered motion of a particle in 1D that is moving under the influence of the potential $$V=k*x^4$$ Unlike the simple harmonic oscillator, the period of this system will depend on the amplitude. Using the techniques developed in this class, find the relationship between the period and the amplitude. Show that the period diverges as the amplitude approaches zero. We will discuss the analytical result in class."
   ]
  },
  {
   "cell_type": "code",
   "execution_count": null,
   "id": "automatic-prospect",
   "metadata": {},
   "outputs": [],
   "source": []
  }
 ],
 "metadata": {
  "kernelspec": {
   "display_name": "Python 3",
   "language": "python",
   "name": "python3"
  },
  "language_info": {
   "codemirror_mode": {
    "name": "ipython",
    "version": 3
   },
   "file_extension": ".py",
   "mimetype": "text/x-python",
   "name": "python",
   "nbconvert_exporter": "python",
   "pygments_lexer": "ipython3",
   "version": "3.9.4"
  }
 },
 "nbformat": 4,
 "nbformat_minor": 5
}
