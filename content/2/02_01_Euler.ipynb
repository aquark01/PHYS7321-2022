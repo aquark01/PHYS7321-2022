{
 "cells": [
  {
   "cell_type": "markdown",
   "id": "impressed-freedom",
   "metadata": {},
   "source": [
    "Ordinary differential equations\n",
    "=========================================\n",
    "\n",
    "Let’s consider a simple 1st order equation: \n",
    "$$\\frac{dy}{dx}=f(x,y)$$\n",
    "\n",
    "To solve this equation with a computer we need to **discretize** the differences: we\n",
    "have to convert the differential equation into a “**finite differences**” equation. The simplest\n",
    "solution is Euler’s method.\n",
    "\n",
    "Euler’s method\n",
    "--------------\n",
    "\n",
    "Suppose that at a point $x_0$, the function $f$ has a value $y_0$. We\n",
    "want to find the approximate value of $y$ in a point $x_1$ close to\n",
    "$x_0$, $x_1=x_0+\\Delta x$, with $\\Delta x$ small. We assume that $f$,\n",
    "the rate of change of $y$, is constant in this interval $\\Delta x$.\n",
    "Therefore we find: $$\\begin{eqnarray}\n",
    "&& dx \\approx \\Delta x &=&x_1-x_0, \\\\\n",
    "&& dy \\approx \\Delta y &=&y_1-y_0,\\end{eqnarray}$$ with\n",
    "$y_1=y(x_1)=y(x_0+\\Delta x)$. Then we re-write the differential equation in terms of discrete differences as:\n",
    "$$\\frac{\\Delta y}{\\Delta x}=f(x,y)$$ or \n",
    "$$\\Delta y = f(x,y)\\Delta x$$\n",
    "and approximate the value of $y_1$ as\n",
    "$$y_1=y_0+f(x_0,y_0)(x_1-x_0)$$ We can generalize this formula to find\n",
    "the value of $y$ at $x_2=x_1+\\Delta x$ as\n",
    "$$y_{2}=y_1+f(x_1,y_1)\\Delta x,$$ or in the general case:\n",
    "$$y_{n+1}=y_n+f(x_n,y_n)\\Delta x$$\n",
    "\n",
    "This is a good approximation as long as $\\Delta x$ is “small”. What is\n",
    "small? Depends on the problem, but it is basically defined by the “rate\n",
    "of change”, or “smoothness” of $f$. $f(x)$ has to behave smoothly and\n",
    "without rapid variations in the interval $\\Delta x$.\n",
    "\n",
    "Notice that Euler’s method is equivalent to a 1st order Taylor expansion\n",
    "about the point $x_0$. The “local error” calculating $x_1$ is then\n",
    "$O(\\Delta x^2)$. If we use the method $N$ times to calculate $N$\n",
    "consecutive points, the propagated “global” error will be\n",
    "$NO(\\Delta x^2)/X\\approx O(\\Delta \n",
    "x)$, where $X=N\\Delta x$. This error decreases linearly with decreasing step, so we need to\n",
    "halve the step size to reduce the error by half. The numerical work for\n",
    "each step consists of a single evaluation of $f$."
   ]
  },
  {
   "cell_type": "markdown",
   "id": "loving-atmosphere",
   "metadata": {},
   "source": [
    "### Exercise 1.1: Newton’s law of cooling \n",
    "\n",
    "If the temperature difference between an object and its surroundings is\n",
    "small, the rate of change of the temperature of the object is\n",
    "proportional to the temperature difference: $$\\frac{dT}{dt}=-r(T-T_s),$$\n",
    "where $T$ is the temperature of the body, $T_s$ is the temperature of\n",
    "the environment, and $r$ is a “cooling constant” that depends on the\n",
    "heat transfer mechanism, the contact area with the environment and the\n",
    "thermal properties of the body. The minus sign appears because if\n",
    "$T>T_s$, the temperature must decrease.\n",
    "\n",
    "Write a program to calculate the temperature of a body at a time $t$,\n",
    "given the cooling constant $r$ and the temperature of the body at time\n",
    "$t=0$. Plot the results for $r=0.1\\frac{1}{min}$; $T_0=83^{\\circ} C$\n",
    "using different intervals $\\Delta t$ and compare with exact (analytical)\n",
    "results."
   ]
  },
  {
   "cell_type": "code",
   "execution_count": null,
   "id": "mineral-logistics",
   "metadata": {},
   "outputs": [],
   "source": [
    "T0 = 10.   # initial temperature\n",
    "Ts = 83.   # temp. of the environment\n",
    "r = 0.1    # cooling rate\n",
    "dt = 0.05  # time step\n",
    "tmax = 60. # maximum time\n",
    "nsteps = int(tmax/dt)  # number of steps"
   ]
  },
  {
   "cell_type": "code",
   "execution_count": null,
   "id": "after-gentleman",
   "metadata": {},
   "outputs": [],
   "source": [
    "T = T0\n",
    " <find and print T as a function of t>"
   ]
  },
  {
   "cell_type": "markdown",
   "id": "round-character",
   "metadata": {},
   "source": [
    "Let's try plotting the results. We first need to import the required libraries and methods"
   ]
  },
  {
   "cell_type": "code",
   "execution_count": null,
   "id": "accomplished-persian",
   "metadata": {},
   "outputs": [],
   "source": [
    "%matplotlib inline\n",
    "import numpy as np\n",
    "from matplotlib import pyplot "
   ]
  },
  {
   "cell_type": "markdown",
   "id": "south-planning",
   "metadata": {},
   "source": [
    "Next, we create numpy arrays to store the (x,y) values "
   ]
  },
  {
   "cell_type": "code",
   "execution_count": null,
   "id": "unique-wagner",
   "metadata": {},
   "outputs": [],
   "source": [
    "my_time = np.zeros(nsteps)\n",
    "my_temp = np.zeros(nsteps)"
   ]
  },
  {
   "cell_type": "markdown",
   "id": "american-williams",
   "metadata": {},
   "source": [
    "We have to re write the loop to store the values in the arrays. Remember that numpy arrays start from 0."
   ]
  },
  {
   "cell_type": "code",
   "execution_count": null,
   "id": "smaller-voluntary",
   "metadata": {},
   "outputs": [],
   "source": [
    "T = T0\n",
    "my_temp[0] = T0\n",
    "\n",
    "<write something that will generate and save t and T to arrays my_time and my_temp>\n",
    "    my_time[i] = i*dt\n",
    "    my_temp[i] = T"
   ]
  },
  {
   "cell_type": "code",
   "execution_count": null,
   "id": "naughty-geography",
   "metadata": {},
   "outputs": [],
   "source": [
    "# once the previous cell is properly populating my_time and my_temp, then print.\n",
    "pyplot.plot(my_time, my_temp, color='#003366', ls='-', lw=3)\n",
    "pyplot.xlabel('time')\n",
    "pyplot.ylabel('temperature');"
   ]
  },
  {
   "cell_type": "markdown",
   "id": "neither-synthesis",
   "metadata": {},
   "source": [
    "## Note\n",
    "We could have slightly simplified the above steps with:\n",
    "my_time = np.linspace(0.,tmax,nsteps)\n",
    "\n",
    "Try to re-plot the above using the linspace approach."
   ]
  },
  {
   "cell_type": "markdown",
   "id": "opposite-departure",
   "metadata": {},
   "source": [
    "## Few more Notes\n",
    "Alternatively, and in order to reuse code in future problems, we could have created a function."
   ]
  },
  {
   "cell_type": "code",
   "execution_count": null,
   "id": "promising-component",
   "metadata": {},
   "outputs": [],
   "source": [
    "def euler(y, f, dx):\n",
    "    \"\"\"Computes y_new = y + f*dx\n",
    "    \n",
    "    Parameters\n",
    "    ----------\n",
    "    y  : float\n",
    "        old value of y_n at x_n\n",
    "    f  : float\n",
    "        first derivative f(x,y) evaluated at (x_n,y_n)\n",
    "    dx : float\n",
    "        x step\n",
    "    \"\"\"\n",
    "    \n",
    "    return y + f*dx"
   ]
  },
  {
   "cell_type": "code",
   "execution_count": null,
   "id": "iraqi-satisfaction",
   "metadata": {},
   "outputs": [],
   "source": [
    "T = T0\n",
    "for i in range(1,nsteps):\n",
    "    T = euler(<how would you use this?  Give the three arguments.>)\n",
    "    my_temp[i] = T"
   ]
  },
  {
   "cell_type": "markdown",
   "id": "supported-disability",
   "metadata": {},
   "source": [
    "Yet another approach would be to use a lambda function, as done earlier."
   ]
  },
  {
   "cell_type": "code",
   "execution_count": null,
   "id": "parallel-roads",
   "metadata": {},
   "outputs": [],
   "source": [
    "euler = lambda y, f, dx: y + f*dx "
   ]
  },
  {
   "cell_type": "markdown",
   "id": "charged-carry",
   "metadata": {},
   "source": [
    "## Testing convergence\n",
    "As described in the introduction, the error scales with the step size.  Let's try to solve the same system using different step sizes. "
   ]
  },
  {
   "cell_type": "code",
   "execution_count": null,
   "id": "ranging-advance",
   "metadata": {},
   "outputs": [],
   "source": [
    "dt = 1.\n",
    "#my_color = ['#003366','#663300','#660033','#330066']\n",
    "my_color = ['red', 'green', 'blue', 'black']\n",
    "for j in range(0,4):\n",
    "    nsteps = int(tmax/dt)    #the arrays will have different size for different time steps\n",
    "    my_time = np.linspace(dt,tmax,nsteps) \n",
    "    my_temp = np.zeros(nsteps)\n",
    "    T = T0\n",
    "\n",
    "    <here, add your routine for calculating T as a function of time. Save the values to my_temp>\n",
    "        \n",
    "    pyplot.plot(my_time, my_temp, color=my_color[j], ls='-', lw=3)\n",
    "    dt = dt/2.\n",
    "\n",
    "pyplot.xlabel('time');\n",
    "pyplot.ylabel('temperature');\n",
    "pyplot.xlim(8,10)\n",
    "pyplot.ylim(48,58);"
   ]
  },
  {
   "cell_type": "markdown",
   "id": "dominican-ozone",
   "metadata": {},
   "source": [
    "### Challenge 1.1\n",
    "\n",
    "To properly study convergence, one possibility it so look at the result at a given time, for different time steps. Modify the previous program to print the temperature at $t=10$ as a function of $\\Delta t$. "
   ]
  }
 ],
 "metadata": {
  "kernelspec": {
   "display_name": "Python 3",
   "language": "python",
   "name": "python3"
  },
  "language_info": {
   "codemirror_mode": {
    "name": "ipython",
    "version": 3
   },
   "file_extension": ".py",
   "mimetype": "text/x-python",
   "name": "python",
   "nbconvert_exporter": "python",
   "pygments_lexer": "ipython3",
   "version": "3.9.4"
  }
 },
 "nbformat": 4,
 "nbformat_minor": 5
}
