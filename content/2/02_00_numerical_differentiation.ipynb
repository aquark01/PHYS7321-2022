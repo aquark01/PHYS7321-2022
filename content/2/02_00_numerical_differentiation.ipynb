{
 "cells": [
  {
   "cell_type": "markdown",
   "id": "taken-wagon",
   "metadata": {},
   "source": [
    "A primer on numerical differentiation\n",
    "========================\n",
    "\n",
    "In order to numerically evaluate a derivative $y'(x)=dy/dx$ at point $x_0$, we approximate is by using finite differences:\n",
    "Therefore we find: $$\\begin{eqnarray}\n",
    "&& dx \\approx \\Delta x &=&x_1-x_0, \\\\\n",
    "&& dy \\approx \\Delta y &=&y_1-y_0 = y(x_1)-y(x_0) = y(x_0+\\Delta_x)-y(x_0),\\end{eqnarray}$$\n",
    "\n",
    "Then we re-write the derivative in terms of discrete differences as:\n",
    "$$\\frac{dy}{dx} \\approx \\frac{\\Delta y}{\\Delta x}$$\n",
    "\n",
    "#### Example\n",
    "\n",
    "Let's look at the accuracy of this approximation in terms of the interval $\\Delta x$. In our first example we will evaluate the derivative of $y=x^2$ at $x=1$."
   ]
  },
  {
   "cell_type": "code",
   "execution_count": 1,
   "id": "split-psychology",
   "metadata": {},
   "outputs": [
    {
     "name": "stdout",
     "output_type": "stream",
     "text": [
      " 1e+00   3.0000000000000000   1.0000000000000000\n",
      " 1e-01   2.1000000000000019   0.1000000000000019\n",
      " 1e-02   2.0100000000000007   0.0100000000000007\n",
      " 1e-03   2.0009999999996975   0.0009999999996975\n",
      " 1e-04   2.0000999999991720   0.0000999999991720\n",
      " 1e-05   2.0000100000139298   0.0000100000139298\n",
      " 1e-06   2.0000009999243669   0.0000009999243669\n",
      " 1e-07   2.0000001010878061   0.0000001010878061\n",
      " 1e-08   1.9999999878450576  -0.0000000121549424\n",
      " 1e-09   2.0000001654807416   0.0000001654807416\n",
      " 1e-10   2.0000001654807416   0.0000001654807416\n"
     ]
    }
   ],
   "source": [
    "dx = 1.\n",
    "x = 1.\n",
    "while(dx > 1.e-10):\n",
    "    dy = (x+dx)*(x+dx)-x*x\n",
    "    d = dy / dx\n",
    "    print(\"%6.0e %20.16f %20.16f\" % (dx, d, d-2.))\n",
    "    dx = dx / 10."
   ]
  },
  {
   "cell_type": "markdown",
   "id": "twenty-course",
   "metadata": {},
   "source": [
    "Why is it that the sequence does not converge? This is due to the round-off errors in the representation of the floating point numbers. To see this, we can simply type:"
   ]
  },
  {
   "cell_type": "code",
   "execution_count": 2,
   "id": "little-language",
   "metadata": {},
   "outputs": [
    {
     "data": {
      "text/plain": [
       "0.0002000099999999172"
      ]
     },
     "execution_count": 2,
     "metadata": {},
     "output_type": "execute_result"
    }
   ],
   "source": [
    "((1.+0.0001)*(1+0.0001)-1)"
   ]
  },
  {
   "cell_type": "markdown",
   "id": "endangered-thomson",
   "metadata": {},
   "source": [
    "## Question\n",
    "Repeat the above step, trying powers of 1/N, where N=2..10"
   ]
  },
  {
   "cell_type": "markdown",
   "id": "accurate-spanking",
   "metadata": {},
   "source": [
    "In addition, one could consider the midpoint difference, defined as:\n",
    "$$ dy \\approx \\Delta y = y(x_0+\\frac{\\Delta_x}{2})-y(x_0-\\frac{\\Delta_x}{2}).$$\n",
    "\n",
    "For a more complex function we need to import it from math. For instance, let's calculate the derivative of $sin(x)$ at $x=\\pi/4$, including both the forward and midpoint differences."
   ]
  },
  {
   "cell_type": "code",
   "execution_count": 3,
   "id": "removable-namibia",
   "metadata": {},
   "outputs": [
    {
     "name": "stdout",
     "output_type": "stream",
     "text": [
      " 1e+00   0.2699544827129282  -0.4371522984736194   0.6780100988420897  -0.0290966823444578\n",
      " 5e-01   0.5048856975964859  -0.2022210835900616   0.6997640691250939  -0.0073427120614536\n",
      " 2e-01   0.6118351194488110  -0.0952716617377366   0.7052667953545546  -0.0018399858319930\n",
      " 1e-01   0.6611301360648314  -0.0459766451217162   0.7066465151141266  -0.0004602660724210\n",
      " 6e-02   0.6845566203276618  -0.0225501608588857   0.7069916978116613  -0.0001150833748863\n",
      " 3e-02   0.6959440534591224  -0.0111627277274252   0.7070780092891873  -0.0000287718973603\n",
      " 2e-02   0.7015538499518499  -0.0055529312346977   0.7070995881463560  -0.0000071930401916\n",
      " 8e-03   0.7043374663312676  -0.0027693148552800   0.7071049829223881  -0.0000017982641595\n",
      " 4e-03   0.7057239167465070  -0.0013828644400405   0.7071063316202526  -0.0000004495662950\n",
      " 2e-03   0.7064157978737740  -0.0006909833127736   0.7071066687949497  -0.0000001123915979\n",
      " 1e-03   0.7067614018394579  -0.0003453793470897   0.7071067530886239  -0.0000000280979237\n",
      " 5e-04   0.7069341196006462  -0.0001726615859013   0.7071067741617298  -0.0000000070248177\n",
      " 2e-04   0.7070204574165473  -0.0000863237700003   0.7071067794299779  -0.0000000017565697\n",
      " 1e-04   0.7070636210573866  -0.0000431601291609   0.7071067807464715  -0.0000000004400761\n",
      " 6e-05   0.7070852015604032  -0.0000215796261444   0.7071067810775276  -0.0000000001090200\n",
      " 3e-05   0.7070959914854029  -0.0000107897011447   0.7071067811557441  -0.0000000000308035\n",
      " 2e-05   0.7071013863605913  -0.0000053948259563   0.7071067811848479  -0.0000000000016996\n",
      " 8e-06   0.7071040837909095  -0.0000026973956381   0.7071067811775720  -0.0000000000089756\n",
      " 4e-06   0.7071054324915167  -0.0000013486950309   0.7071067811921239   0.0000000000055763\n",
      " 2e-06   0.7071061068563722  -0.0000006743301754   0.7071067811921239   0.0000000000055763\n",
      " 1e-06   0.7071064440533519  -0.0000003371331957   0.7071067811921239   0.0000000000055763\n",
      " 5e-07   0.7071066126227379  -0.0000001685638097   0.7071067811921239   0.0000000000055763\n",
      " 2e-07   0.7071066969074309  -0.0000000842791167   0.7071067811921239   0.0000000000055763\n",
      " 1e-07   0.7071067392826080  -0.0000000419039395   0.7071067811921239   0.0000000000055763\n",
      " 6e-08   0.7071067616343498  -0.0000000195521977   0.7071067802608013  -0.0000000009257463\n",
      " 3e-08   0.7071067690849304  -0.0000000121016172   0.7071067802608013  -0.0000000009257463\n",
      " 1e-08   0.7071067765355110  -0.0000000046510366   0.7071067690849304  -0.0000000121016172\n",
      " 7e-09   0.7071067690849304  -0.0000000121016172   0.7071067690849304  -0.0000000121016172\n",
      " 4e-09   0.7071067690849304  -0.0000000121016172   0.7071067988872528   0.0000000177007052\n",
      " 2e-09   0.7071068286895752   0.0000000475030276   0.7071067690849304  -0.0000000121016172\n",
      " 9e-10   0.7071068286895752   0.0000000475030276   0.7071067094802856  -0.0000000717062619\n",
      " 5e-10   0.7071068286895752   0.0000000475030276   0.7071065902709961  -0.0000001909155515\n",
      " 2e-10   0.7071065902709961  -0.0000001909155515   0.7071070671081543   0.0000002859216067\n",
      " 1e-10   0.7071075439453125   0.0000007627587649   0.7071065902709961  -0.0000001909155515\n"
     ]
    }
   ],
   "source": [
    "from math import sin, sqrt, pi\n",
    "dx = 1.\n",
    "\n",
    "while(dx >1e-10):\n",
    "    x = pi/4.\n",
    "    d1 = sin(x+dx) - sin(x); #forward\n",
    "    d2 = sin(x+dx*0.5) - sin(x-dx*0.5); # midpoint\n",
    "    d1 = d1 / dx;\n",
    "    d2 = d2 / dx;\n",
    "    print(\"%6.0e %20.16f %20.16f %20.16f %20.16f\" % (dx, d1, d1-sqrt(2.)/2., d2, d2-sqrt(2.)/2.) )\n",
    "    dx = dx / 2.\n"
   ]
  },
  {
   "cell_type": "markdown",
   "id": "straight-criminal",
   "metadata": {},
   "source": [
    "### Special functions in **numpy**\n",
    "\n",
    "numpy provides a simple method **diff()** to calculate the numerical derivatives of a dataset stored in an array by forward differences. The function **gradient()** will calculate the derivatives by midpoint (or central) difference, that provides a more accurate result. "
   ]
  },
  {
   "cell_type": "code",
   "execution_count": 20,
   "id": "associate-phrase",
   "metadata": {},
   "outputs": [
    {
     "name": "stdout",
     "output_type": "stream",
     "text": [
      "[0 1 2 3 4 5 6 7 8 9]\n"
     ]
    },
    {
     "data": {
      "image/png": "[encoded data removed]",
      "text/plain": [
       "<Figure size 432x288 with 1 Axes>"
      ]
     },
     "metadata": {
      "needs_background": "light"
     },
     "output_type": "display_data"
    }
   ],
   "source": [
    "%matplotlib inline\n",
    "import numpy as np\n",
    "from matplotlib import pyplot\n",
    "\n",
    "y = lambda x: x*x\n",
    "\n",
    "x1 = np.arange(0,10,1)\n",
    "x2 = np.arange(0,10,0.1)\n",
    "\n",
    "y1 = np.gradient(y(x1), 1.)\n",
    "print (x1)\n",
    "\n",
    "pyplot.plot(x1,np.gradient(y(x1),1.),'r--o');\n",
    "pyplot.plot(x1[:x1.size-1],np.diff(y(x1))/np.diff(x1),'b--x');  "
   ]
  },
  {
   "cell_type": "markdown",
   "id": "informative-alaska",
   "metadata": {},
   "source": [
    "Now try the x2 array for spacing of the differences"
   ]
  },
  {
   "cell_type": "code",
   "execution_count": 21,
   "id": "married-furniture",
   "metadata": {},
   "outputs": [
    {
     "data": {
      "image/png": "[encoded data removed]",
      "text/plain": [
       "<Figure size 432x288 with 1 Axes>"
      ]
     },
     "metadata": {
      "needs_background": "light"
     },
     "output_type": "display_data"
    }
   ],
   "source": [
    "pyplot.plot(x2,np.gradient(y(x2),1),'b--o');"
   ]
  },
  {
   "cell_type": "markdown",
   "id": "ancient-burst",
   "metadata": {},
   "source": [
    "Does the plot generated by the above step look correct?  If not, what went wrong?"
   ]
  },
  {
   "cell_type": "code",
   "execution_count": null,
   "id": "loving-strain",
   "metadata": {},
   "outputs": [],
   "source": []
  }
 ],
 "metadata": {
  "kernelspec": {
   "display_name": "Python 3",
   "language": "python",
   "name": "python3"
  },
  "language_info": {
   "codemirror_mode": {
    "name": "ipython",
    "version": 3
   },
   "file_extension": ".py",
   "mimetype": "text/x-python",
   "name": "python",
   "nbconvert_exporter": "python",
   "pygments_lexer": "ipython3",
   "version": "3.9.4"
  }
 },
 "nbformat": 4,
 "nbformat_minor": 5
}
