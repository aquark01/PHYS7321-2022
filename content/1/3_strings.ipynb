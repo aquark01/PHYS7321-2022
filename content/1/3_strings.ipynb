{
 "cells": [
  {
   "cell_type": "markdown",
   "id": "structural-disclaimer",
   "metadata": {},
   "source": [
    "**STRINGS**\n",
    "\n",
    "\n",
    "A string is any sequence of characters that is treated as a single entity/quantity.  \n",
    "\n",
    "\"hello\", \"j*2k\", \".dkd..)JK@\" are all strings.\n",
    "\n",
    "Numbers can also be strings.  While 55 is a number, '55' is a string. They look identical, but you can tell Python how to treat it."
   ]
  },
  {
   "cell_type": "markdown",
   "id": "tired-cause",
   "metadata": {},
   "source": [
    "First, let's see how the string-specific method \"format\" can be used.  First, we define a string that declares the format of something. In this case, an 8-character floating point value with 2 decimals\n",
    "\n",
    "*Some Terminology*\n",
    "\n",
    "**Function** a routine that takes something as input, and returns something as output\n",
    "\n",
    "e.g.  F(x)=x^6\n",
    "    \n",
    "    we can call it with F(10), and we will get 10^6\n",
    "\n",
    "**Method** a routine that can only act on a particular type of object\n",
    "\n",
    "e.g. we have an object (entity that contains various variables).  Let's say the object is called **ME**, and **ME** is an object of class **person**, where the **person** class has a method called **birthday**. Let's also say that each person object has a variable associated with it called **age**.  We would refer to this variable by saying:\n",
    "\n",
    "ME.age\n",
    "\n",
    "This would return the age of ME (let's say 30)\n",
    "\n",
    "To call the **birthday** method, we would say \n",
    "\n",
    "ME.birthday()\n",
    "\n",
    "The birthday method would be defined to increment age by 1.  So, after we call the method, then:\n",
    "\n",
    "ME.age would return 31.\n",
    "\n",
    "*done with terminology aside*\n",
    "\n",
    "So, let's look at a real method, which is associated with anything that is of type 'string'\n"
   ]
  },
  {
   "cell_type": "code",
   "execution_count": null,
   "id": "faced-royalty",
   "metadata": {},
   "outputs": [],
   "source": [
    "mystring = '{:8.2f}'"
   ]
  },
  {
   "cell_type": "markdown",
   "id": "outer-context",
   "metadata": {},
   "source": [
    "We have a variable mystring, which we set equal to something in quotes.  Python understand this is a 'string'\n",
    "\n",
    "Now, let's use the \"format\" method to write the number 50 in 8.2f format"
   ]
  },
  {
   "cell_type": "code",
   "execution_count": null,
   "id": "primary-france",
   "metadata": {},
   "outputs": [],
   "source": [
    "mystring.format(50)"
   ]
  },
  {
   "cell_type": "markdown",
   "id": "decimal-rabbit",
   "metadata": {},
   "source": [
    "In this case, the method uses the value of the string to define a format. It them combines it with the argument (50) to give an output.\n",
    "\n",
    "\n",
    "Now, let's try something with 2 variables of different types and some fixed characters"
   ]
  },
  {
   "cell_type": "code",
   "execution_count": null,
   "id": "german-baker",
   "metadata": {},
   "outputs": [],
   "source": [
    "string2 = '{:8.2f} fixed text {:8s}'"
   ]
  },
  {
   "cell_type": "code",
   "execution_count": null,
   "id": "streaming-freeware",
   "metadata": {},
   "outputs": [],
   "source": [
    "string2.format(50,'a string')"
   ]
  },
  {
   "cell_type": "markdown",
   "id": "collect-twenty",
   "metadata": {},
   "source": [
    "let's try one with two variables of the same type"
   ]
  },
  {
   "cell_type": "code",
   "execution_count": null,
   "id": "differential-strap",
   "metadata": {},
   "outputs": [],
   "source": [
    "string3 = '{:8.2f} is not equal to {:8.2f}'\n",
    "string3.format(30,20)"
   ]
  },
  {
   "cell_type": "markdown",
   "id": "retired-briefs",
   "metadata": {},
   "source": [
    "What about those colons?  What are they doing?  If you don't include indices before, then they are essentially doing nothing.  The order of the arguments follows the order of the formatted values.  It should look exactly the same if you explicitly gave indices"
   ]
  },
  {
   "cell_type": "code",
   "execution_count": null,
   "id": "separated-david",
   "metadata": {},
   "outputs": [],
   "source": [
    "string4 = '{0:8.2f} is not equal to {1:8.2f}'\n"
   ]
  },
  {
   "cell_type": "code",
   "execution_count": null,
   "id": "derived-chuck",
   "metadata": {},
   "outputs": [],
   "source": [
    "string4.format(30,20)"
   ]
  },
  {
   "cell_type": "markdown",
   "id": "incident-organic",
   "metadata": {},
   "source": [
    "Now, flip the order of argument to formatted value"
   ]
  },
  {
   "cell_type": "code",
   "execution_count": null,
   "id": "indonesian-relative",
   "metadata": {},
   "outputs": [],
   "source": [
    "string4 = '{1:8.2f} is not equal to {0:8.2f}'"
   ]
  },
  {
   "cell_type": "code",
   "execution_count": null,
   "id": "executive-arctic",
   "metadata": {},
   "outputs": [],
   "source": [
    "string4.format(30,20)"
   ]
  },
  {
   "cell_type": "markdown",
   "id": "electrical-census",
   "metadata": {},
   "source": [
    "**Why data types can matter**\n",
    "\n",
    "Let's look at some examples where the type matters."
   ]
  },
  {
   "cell_type": "code",
   "execution_count": 1,
   "id": "right-bhutan",
   "metadata": {},
   "outputs": [],
   "source": [
    "f='55'"
   ]
  },
  {
   "cell_type": "markdown",
   "id": "impossible-profile",
   "metadata": {},
   "source": [
    "Now, check the value of f in the next cell.  Does it look like a string, or number?  How can you tell?"
   ]
  },
  {
   "cell_type": "code",
   "execution_count": 2,
   "id": "neither-shark",
   "metadata": {},
   "outputs": [
    {
     "name": "stdout",
     "output_type": "stream",
     "text": [
      "55\n"
     ]
    }
   ],
   "source": [
    "print(f)"
   ]
  },
  {
   "cell_type": "markdown",
   "id": "pacific-decimal",
   "metadata": {},
   "source": [
    "What do you expect if you multiple f by 2? If f is an integer, we expect 110.  "
   ]
  },
  {
   "cell_type": "code",
   "execution_count": 3,
   "id": "biological-seller",
   "metadata": {},
   "outputs": [
    {
     "data": {
      "text/plain": [
       "'5555'"
      ]
     },
     "execution_count": 3,
     "metadata": {},
     "output_type": "execute_result"
    }
   ],
   "source": [
    "f*2"
   ]
  },
  {
   "cell_type": "markdown",
   "id": "maritime-jersey",
   "metadata": {},
   "source": [
    "What about a power?  What if we raise f to the power 2?"
   ]
  },
  {
   "cell_type": "code",
   "execution_count": null,
   "id": "sacred-register",
   "metadata": {},
   "outputs": [],
   "source": []
  },
  {
   "cell_type": "markdown",
   "id": "accomplished-accent",
   "metadata": {},
   "source": [
    "What if we get to a point in our code, and we are not entirely sure what type of variable it is?  Use the type function."
   ]
  },
  {
   "cell_type": "code",
   "execution_count": null,
   "id": "textile-plenty",
   "metadata": {},
   "outputs": [],
   "source": [
    "type(f)"
   ]
  },
  {
   "cell_type": "markdown",
   "id": "medium-sydney",
   "metadata": {},
   "source": [
    "What if we get to this point and we realize we want to change the type?  Or, perhaps we were reading a file, which means the input were strings.  But, we want an int?  **Type Casting/Conversion** is necessary."
   ]
  },
  {
   "cell_type": "code",
   "execution_count": null,
   "id": "regional-birth",
   "metadata": {},
   "outputs": [],
   "source": [
    "f=int(f)"
   ]
  },
  {
   "cell_type": "code",
   "execution_count": null,
   "id": "tamil-kansas",
   "metadata": {},
   "outputs": [],
   "source": [
    "type(f)"
   ]
  },
  {
   "cell_type": "code",
   "execution_count": null,
   "id": "willing-right",
   "metadata": {},
   "outputs": [],
   "source": [
    "f=str(f)"
   ]
  },
  {
   "cell_type": "code",
   "execution_count": null,
   "id": "abandoned-technology",
   "metadata": {},
   "outputs": [],
   "source": [
    "type(f)"
   ]
  },
  {
   "cell_type": "markdown",
   "id": "blocked-diagnosis",
   "metadata": {},
   "source": [
    "can you figure out what the result should be for the following?\n",
    "\n",
    "num=40\n",
    "int(str(num*2)*3)/3\n",
    "\n"
   ]
  },
  {
   "cell_type": "code",
   "execution_count": null,
   "id": "superb-failure",
   "metadata": {},
   "outputs": [],
   "source": []
  },
  {
   "cell_type": "code",
   "execution_count": null,
   "id": "instant-envelope",
   "metadata": {},
   "outputs": [],
   "source": []
  }
 ],
 "metadata": {
  "kernelspec": {
   "display_name": "Python 3",
   "language": "python",
   "name": "python3"
  },
  "language_info": {
   "codemirror_mode": {
    "name": "ipython",
    "version": 3
   },
   "file_extension": ".py",
   "mimetype": "text/x-python",
   "name": "python",
   "nbconvert_exporter": "python",
   "pygments_lexer": "ipython3",
   "version": "3.9.4"
  }
 },
 "nbformat": 4,
 "nbformat_minor": 5
}
