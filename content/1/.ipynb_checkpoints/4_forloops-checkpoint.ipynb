{
 "cells": [
  {
   "cell_type": "markdown",
   "id": "preceding-traffic",
   "metadata": {},
   "source": [
    "Let's look at some examples of for loops. Our variable will be \"car\" and the list of values will be colors.  Then, we will write each car color name. \n",
    "\n",
    "First define a \"list\" of colors"
   ]
  },
  {
   "cell_type": "code",
   "execution_count": null,
   "id": "impressive-nightmare",
   "metadata": {},
   "outputs": [],
   "source": [
    "colors = [\"red\", \"orange\", \"blue\"]"
   ]
  },
  {
   "cell_type": "markdown",
   "id": "isolated-transport",
   "metadata": {},
   "source": [
    "**Let's take another aside**\n",
    "\n",
    "For those of you who have programmed before, doesn't that look like an array?  What's the difference?"
   ]
  },
  {
   "cell_type": "markdown",
   "id": "mature-muscle",
   "metadata": {},
   "source": [
    "What does it mean to multiply an array/list?"
   ]
  },
  {
   "cell_type": "code",
   "execution_count": null,
   "id": "impossible-intensity",
   "metadata": {},
   "outputs": [],
   "source": []
  },
  {
   "cell_type": "markdown",
   "id": "advised-devil",
   "metadata": {},
   "source": [
    "What if the list is only composed of numbers? for example: "
   ]
  },
  {
   "cell_type": "code",
   "execution_count": null,
   "id": "bizarre-forestry",
   "metadata": {},
   "outputs": [],
   "source": [
    "cor=[1,2,4,5,6]"
   ]
  },
  {
   "cell_type": "markdown",
   "id": "ranging-disease",
   "metadata": {},
   "source": [
    "Ok, we have a good handle on how lists work... but, we will come back to this..."
   ]
  },
  {
   "cell_type": "markdown",
   "id": "confirmed-deficit",
   "metadata": {},
   "source": [
    "**Now, back to the example**:  set up a \"for\" loop using a \"list\""
   ]
  },
  {
   "cell_type": "code",
   "execution_count": null,
   "id": "ordinary-spectrum",
   "metadata": {},
   "outputs": [],
   "source": [
    "for car in colors:\n",
    "    print(car)"
   ]
  },
  {
   "cell_type": "markdown",
   "id": "discrete-structure",
   "metadata": {},
   "source": [
    "In the above example, notice that \"print\" is indented.  That is how Python keeps track of the scope (i.e. what is inside the loop.) In most languages, one needs to enclose the loop instructions using some form of bracket. e.g. a }, ), or ] \n",
    "\n",
    "Now, since car is a string, let's use the format option to play with what we write"
   ]
  },
  {
   "cell_type": "code",
   "execution_count": null,
   "id": "identical-function",
   "metadata": {},
   "outputs": [],
   "source": [
    "for car in colors:\n",
    "    print('my car is {:s}'.format(car))"
   ]
  },
  {
   "cell_type": "markdown",
   "id": "false-coffee",
   "metadata": {},
   "source": [
    "In the above example, we defined the string \"my car is {:s}\" and called the method \"format\".  But, we never had to declare the string as a variable.\n",
    "\n",
    "\n",
    "What would happen if we use our \"cor\" list, instead?  Is it treated list a string?  If not, can we force cor to look like a list of strings? Try it..."
   ]
  },
  {
   "cell_type": "code",
   "execution_count": null,
   "id": "revised-surname",
   "metadata": {},
   "outputs": [],
   "source": []
  },
  {
   "cell_type": "markdown",
   "id": "several-teddy",
   "metadata": {},
   "source": [
    "We can also put the list of values directly in the loop declaration"
   ]
  },
  {
   "cell_type": "code",
   "execution_count": null,
   "id": "subsequent-communication",
   "metadata": {},
   "outputs": [],
   "source": [
    "for car in [\"red\", \"orange\", \"blue\"]:\n",
    "    print('my car is {:s}'.format(car))"
   ]
  },
  {
   "cell_type": "markdown",
   "id": "married-conjunction",
   "metadata": {},
   "source": [
    "While it is useful to loop over lists of values, there are many times when we simply want to loop over entries in an array.  For example, we may want to loop over the values 0 to 10"
   ]
  },
  {
   "cell_type": "code",
   "execution_count": null,
   "id": "reported-reform",
   "metadata": {},
   "outputs": [],
   "source": [
    "for index in range(10):\n",
    "    print(index)"
   ]
  },
  {
   "cell_type": "markdown",
   "id": "secure-contest",
   "metadata": {},
   "source": [
    "perhaps we only want to start at index 4"
   ]
  },
  {
   "cell_type": "code",
   "execution_count": null,
   "id": "phantom-oakland",
   "metadata": {},
   "outputs": [],
   "source": [
    "for index in range(4,10):\n",
    "    print(index)"
   ]
  },
  {
   "cell_type": "markdown",
   "id": "wanted-handbook",
   "metadata": {},
   "source": [
    "one can also nest loops inside of other loops"
   ]
  },
  {
   "cell_type": "code",
   "execution_count": null,
   "id": "temporal-concentrate",
   "metadata": {},
   "outputs": [],
   "source": [
    "for i in range(3):\n",
    "    for j in range(i,5):\n",
    "        print(i,j)"
   ]
  },
  {
   "cell_type": "code",
   "execution_count": null,
   "id": "arbitrary-accuracy",
   "metadata": {},
   "outputs": [],
   "source": []
  }
 ],
 "metadata": {
  "kernelspec": {
   "display_name": "Python 3",
   "language": "python",
   "name": "python3"
  },
  "language_info": {
   "codemirror_mode": {
    "name": "ipython",
    "version": 3
   },
   "file_extension": ".py",
   "mimetype": "text/x-python",
   "name": "python",
   "nbconvert_exporter": "python",
   "pygments_lexer": "ipython3",
   "version": "3.9.4"
  }
 },
 "nbformat": 4,
 "nbformat_minor": 5
}
